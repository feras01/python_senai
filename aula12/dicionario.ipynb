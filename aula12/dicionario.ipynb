{
 "cells": [
  {
   "cell_type": "markdown",
   "metadata": {},
   "source": [
    "## Dicionario\n",
    "\n",
    "È um conjunto de chaves de valores que distinguem um objeto. Estas chaves nos chamamos de \n",
    "KEYS e seus valores de VALUES. È um tipo especial de variavel python identifica pela {}."
   ]
  },
  {
   "cell_type": "code",
   "execution_count": 163,
   "metadata": {},
   "outputs": [
    {
     "name": "stdout",
     "output_type": "stream",
     "text": [
      "{'none': 'Flavio', 'idade': 30, 'cidade': 'João Pessoa'}\n"
     ]
    }
   ],
   "source": [
    "pesssoa = {\n",
    "    'none': 'Flavio',\n",
    "    'idade': 30 ,\n",
    "    'cidade': 'João Pessoa'\n",
    "}\n",
    "\n",
    "print(pesssoa)"
   ]
  },
  {
   "cell_type": "code",
   "execution_count": 164,
   "metadata": {},
   "outputs": [
    {
     "data": {
      "text/plain": [
       "dict_keys(['none', 'idade', 'cidade'])"
      ]
     },
     "execution_count": 164,
     "metadata": {},
     "output_type": "execute_result"
    }
   ],
   "source": [
    "# Metodo KEYS()\n",
    "\n",
    "pesssoa.keys()\n",
    "\n",
    "# Metodo VALUES()"
   ]
  },
  {
   "cell_type": "code",
   "execution_count": 165,
   "metadata": {},
   "outputs": [
    {
     "name": "stdout",
     "output_type": "stream",
     "text": [
      "dict_values(['Flavio', 30, 'João Pessoa'])\n"
     ]
    }
   ],
   "source": [
    "print(pesssoa.values())\n"
   ]
  },
  {
   "cell_type": "code",
   "execution_count": 166,
   "metadata": {},
   "outputs": [
    {
     "data": {
      "text/plain": [
       "'Flavio'"
      ]
     },
     "execution_count": 166,
     "metadata": {},
     "output_type": "execute_result"
    }
   ],
   "source": [
    "# Olhando valores especificos de um dicionario\n",
    "\n",
    "pesssoa['none']"
   ]
  },
  {
   "cell_type": "code",
   "execution_count": 167,
   "metadata": {},
   "outputs": [
    {
     "name": "stdout",
     "output_type": "stream",
     "text": [
      "{'none': 'Flavio', 'idade': 30, 'cidade': 'João Pessoa'}\n",
      "{'none': 'Flavio', 'idade': 30, 'cidade': 'Brasília'}\n"
     ]
    }
   ],
   "source": [
    "# Atribuindo um novo a uma chave\n",
    "print(pesssoa)\n",
    "pesssoa['cidade'] = 'Brasília'\n",
    "print(pesssoa)"
   ]
  },
  {
   "cell_type": "code",
   "execution_count": 168,
   "metadata": {},
   "outputs": [
    {
     "name": "stdout",
     "output_type": "stream",
     "text": [
      "{'none': 'Flavio', 'idade': 30, 'cidade': 'Brasília', 'email': 'flavio@sistema.com'}\n"
     ]
    }
   ],
   "source": [
    "pesssoa['email'] = 'flavio@sistema.com'\n",
    "\n",
    "print(pesssoa)"
   ]
  },
  {
   "cell_type": "code",
   "execution_count": 169,
   "metadata": {},
   "outputs": [
    {
     "name": "stdout",
     "output_type": "stream",
     "text": [
      "{'none': 'Flavio', 'email': 'flavio@sistema.com'}\n"
     ]
    }
   ],
   "source": [
    "del pesssoa ['idade']\n",
    "\n",
    "pesssoa.pop('cidade')\n",
    "\n",
    "print(pesssoa)"
   ]
  },
  {
   "cell_type": "code",
   "execution_count": 177,
   "metadata": {},
   "outputs": [
    {
     "name": "stdout",
     "output_type": "stream",
     "text": [
      "0 {'nome': 'Adriana', 'cidade': 'brasilia'}\n",
      "1 {'nome': 'Marcos', 'cidade': 'brasilia'}\n",
      "2 {'nome': 'Luana', 'cidade': 'brasilia'}\n",
      "3 {'nome': 'Lucas', 'cidade': 'brasilia'}\n"
     ]
    }
   ],
   "source": [
    "aluno = [\n",
    "    {'nome': 'Adriana', 'cidade': 'Brasília'},\n",
    "    {'nome': 'Marcos', 'cidade': 'Brasília'},\n",
    "    {'nome': 'Luana', 'cidade': 'Brasília'},\n",
    "    {'nome': 'Lucas', 'cidade': 'Ceilândia'},\n",
    "]\n",
    "\n",
    "# Percorrendo lista e printando cada dicionario\n",
    "for indice, alunos in enumerate(aluno):\n",
    "    print(indice , alunos)"
   ]
  },
  {
   "cell_type": "code",
   "execution_count": 181,
   "metadata": {},
   "outputs": [
    {
     "ename": "SyntaxError",
     "evalue": "incomplete input (4211159959.py, line 3)",
     "output_type": "error",
     "traceback": [
      "\u001b[1;36m  Cell \u001b[1;32mIn[181], line 3\u001b[1;36m\u001b[0m\n\u001b[1;33m    (alunos[2]['cidade']\u001b[0m\n\u001b[1;37m                        ^\u001b[0m\n\u001b[1;31mSyntaxError\u001b[0m\u001b[1;31m:\u001b[0m incomplete input\n"
     ]
    }
   ],
   "source": [
    "print(alunos[2])\n",
    "\n",
    "(alunos[2]['cidade']"
   ]
  },
  {
   "cell_type": "code",
   "execution_count": 186,
   "metadata": {},
   "outputs": [
    {
     "name": "stdout",
     "output_type": "stream",
     "text": [
      "{'Adriana': {'matricula': '12535', 'escolaridade': 'superior'}, 'Marcos': {'matricula': '587421', 'escolaridade': 'superior'}, 'Luana': {'matricula': '789651', 'escolaridade': 'medio'}, 'Lucas': {'matricula': '45632', 'escolaridade': 'medio'}}\n"
     ]
    }
   ],
   "source": [
    "alunos_dicionario = {\n",
    "    'Adriana': { 'matricula':'12535', 'escolaridade':'superior'},\n",
    "    'Marcos': { 'matricula': '587421', 'escolaridade':'superior'},\n",
    "    'Luana': { 'matricula': '789651', 'escolaridade':'medio'},\n",
    "    'Lucas': { 'matricula': '45632', 'escolaridade':'medio'},\n",
    "    }\n",
    "\n",
    "print(alunos_dicionario)"
   ]
  },
  {
   "cell_type": "code",
   "execution_count": 191,
   "metadata": {},
   "outputs": [
    {
     "name": "stdout",
     "output_type": "stream",
     "text": [
      "superior\n"
     ]
    }
   ],
   "source": [
    "print(alunos_dicionario['Marcos']['escolaridade'])"
   ]
  }
 ],
 "metadata": {
  "interpreter": {
   "hash": "023695796a0456db28915f727eb64cb942055160ea749933aa044f2070f70f3a"
  },
  "kernelspec": {
   "display_name": "Python 3.12.5 64-bit (windows store)",
   "language": "python",
   "name": "python3"
  },
  "language_info": {
   "codemirror_mode": {
    "name": "ipython",
    "version": 3
   },
   "file_extension": ".py",
   "mimetype": "text/x-python",
   "name": "python",
   "nbconvert_exporter": "python",
   "pygments_lexer": "ipython3",
   "version": "3.12.5"
  },
  "orig_nbformat": 4
 },
 "nbformat": 4,
 "nbformat_minor": 2
}
