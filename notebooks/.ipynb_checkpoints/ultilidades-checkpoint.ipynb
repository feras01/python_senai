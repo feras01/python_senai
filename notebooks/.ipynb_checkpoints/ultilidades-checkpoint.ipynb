{
 "cells": [
  {
   "cell_type": "code",
   "execution_count": null,
   "metadata": {},
   "outputs": [],
   "source": []
  }
 ],
 "metadata": {
  "interpreter": {
   "hash": "86e0854421ab4815638af60e999722e5d7203f5f8ceaae2bebaef7f7e75f9092"
  },
  "kernelspec": {
   "display_name": "Python 3.11.9 64-bit (windows store)",
   "language": "python",
   "name": "python3"
  },
  "language_info": {
   "name": "python",
   "version": "3.11.9"
  },
  "orig_nbformat": 4
 },
 "nbformat": 4,
 "nbformat_minor": 2
}
