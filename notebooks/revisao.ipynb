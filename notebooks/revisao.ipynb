{
 "cells": [
  {
   "cell_type": "markdown",
   "metadata": {},
   "source": []
  },
  {
   "cell_type": "code",
   "execution_count": 8,
   "metadata": {},
   "outputs": [],
   "source": [
    "numero = 1\n",
    "nome = 'Flavio'\n",
    "numero_decimal = 10.9\n",
    "sera = True\n",
    "frutas = {'pera', 'morango', 'uva'}\n",
    "carro = {'gol', 'uno', 'fusca'}\n",
    "pessoa = {'nome': 'Flavio', 'idade':31, 'altura':1.66}\n"
   ]
  },
  {
   "cell_type": "markdown",
   "metadata": {},
   "source": [
    "## condicionais\n",
    "__if__\n",
    "__match_case__"
   ]
  },
  {
   "cell_type": "code",
   "execution_count": 9,
   "metadata": {},
   "outputs": [
    {
     "name": "stdout",
     "output_type": "stream",
     "text": [
      "O nome esta correto\n"
     ]
    }
   ],
   "source": [
    "if nome == 'Flavio':\n",
    "    print('O nome esta correto')\n",
    "else:\n",
    "    print('O nome na variavel não e Flavio')\n"
   ]
  },
  {
   "cell_type": "code",
   "execution_count": 10,
   "metadata": {},
   "outputs": [
    {
     "name": "stdout",
     "output_type": "stream",
     "text": [
      "opção 1\n"
     ]
    }
   ],
   "source": [
    "match numero:\n",
    "    case 1:\n",
    "        print('opção 1')\n",
    "    case 2:\n",
    "        print('opção 2')\n",
    "    case 3:\n",
    "        print('opção 3')\n",
    "    case 4:\n",
    "        print('opção 4')\n",
    "    "
   ]
  },
  {
   "cell_type": "code",
   "execution_count": null,
   "metadata": {},
   "outputs": [],
   "source": [
    "for i in range(5):\n",
    "    print(f'O numero é: {numero}')"
   ]
  },
  {
   "cell_type": "code",
   "execution_count": null,
   "metadata": {},
   "outputs": [],
   "source": [
    "contador = 0\n",
    "while contador <= 5:\n",
    "    print(f'O contador é: {contador}')"
   ]
  },
  {
   "cell_type": "markdown",
   "metadata": {},
   "source": [
    "# Relembrando variaveis\n",
    "\n",
    "tipos:\n",
    "\n",
    "- int()\n",
    "- str()\n",
    "- float()\n",
    "- bool()\n",
    "- list()\n",
    "- tuble()\n",
    "- dict()"
   ]
  },
  {
   "cell_type": "markdown",
   "metadata": {},
   "source": [
    "## Laços de Repetição\n",
    "\n",
    "- for\n",
    "- while\n",
    "- "
   ]
  },
  {
   "cell_type": "code",
   "execution_count": null,
   "metadata": {},
   "outputs": [],
   "source": [
    "aluno = 'Flavio Marques'\n",
    "\n",
    "print(aluno.lower)) # deixa minusculo\n",
    "print(aluno.capitalize)) # deixa primeira letra maiuscula\n",
    "print(aluno.upper)) # deixa maiusculo\n",
    "print(aluno.strip) # remove espaços\n",
    "print(aluno.replace('marques', 'rodrigues')) # substituir uma sequencia de caracter por outra\n",
    "print(aluno.split('-') # criar uma com as palavras encontradas da string\n",
    "print('-'.join(aluno)) #transforma uma lista em uma string com o caracter desejado de separador\n",
    "print(aluno[8:13])# conta a string no intervalo de caracter fornecidos"
   ]
  },
  {
   "cell_type": "markdown",
   "metadata": {},
   "source": [
    "# metado de lista\n",
    "- append\n",
    "- externd\n",
    "- insert\n",
    "- remove\n",
    "- pop\n",
    "- index\n",
    "- del\n",
    "- sort\n",
    "- reverse"
   ]
  },
  {
   "cell_type": "code",
   "execution_count": null,
   "metadata": {},
   "outputs": [],
   "source": [
    "produtos = ['notebook', 'smartphone', 'smart tv']\n",
    "\n",
    "produtos.append('fliperama') # adiciona uma elemento ao final da lista\n",
    "produtos.extend(['sofa', 'mesa', 'puff'])# incrementa a lista com outra lista\n",
    "produtos.insert(3, 'playstation 5')#aciona um novo elemento em uma posição especifica \n",
    "produtos.pop()# remove o ultimo elemento da lista\n",
    "produtos.pop(1)# remove uma elemento especifico da lista\n",
    "produtos.remove('samart tv') # remove a primeira ocorrencia encontrada da lista\n",
    "produtos.index('notebook') # retona o indice da primeira ocorrencia encontrada\n",
    "produtos.sort() # organiza em ordem crescente a lista\n",
    "produtos.reverse() # inventea lista de tras para frente"
   ]
  }
 ],
 "metadata": {
  "interpreter": {
   "hash": "023695796a0456db28915f727eb64cb942055160ea749933aa044f2070f70f3a"
  },
  "kernelspec": {
   "display_name": "Python 3.12.5 64-bit (windows store)",
   "language": "python",
   "name": "python3"
  },
  "language_info": {
   "codemirror_mode": {
    "name": "ipython",
    "version": 3
   },
   "file_extension": ".py",
   "mimetype": "text/x-python",
   "name": "python",
   "nbconvert_exporter": "python",
   "pygments_lexer": "ipython3",
   "version": "3.12.5"
  },
  "orig_nbformat": 4
 },
 "nbformat": 4,
 "nbformat_minor": 2
}
