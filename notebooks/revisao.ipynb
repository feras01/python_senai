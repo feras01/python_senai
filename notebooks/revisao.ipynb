{
 "cells": [
  {
   "cell_type": "markdown",
   "metadata": {},
   "source": []
  },
  {
   "cell_type": "code",
   "execution_count": 8,
   "metadata": {},
   "outputs": [],
   "source": [
    "numero = 1\n",
    "nome = 'Flavio'\n",
    "numero_decimal = 10.9\n",
    "sera = True\n",
    "frutas = {'pera', 'morango', 'uva'}\n",
    "carro = {'gol', 'uno', 'fusca'}\n",
    "pessoa = {'nome': 'Flavio', 'idade':31, 'altura':1.66}\n"
   ]
  },
  {
   "cell_type": "markdown",
   "metadata": {},
   "source": [
    "## condicionais\n",
    "__if__\n",
    "__match_case__"
   ]
  },
  {
   "cell_type": "code",
   "execution_count": 9,
   "metadata": {},
   "outputs": [
    {
     "name": "stdout",
     "output_type": "stream",
     "text": [
      "O nome esta correto\n"
     ]
    }
   ],
   "source": [
    "if nome == 'Flavio':\n",
    "    print('O nome esta correto')\n",
    "else:\n",
    "    print('O nome na variavel não e Flavio')\n"
   ]
  },
  {
   "cell_type": "code",
   "execution_count": 10,
   "metadata": {},
   "outputs": [
    {
     "name": "stdout",
     "output_type": "stream",
     "text": [
      "opção 1\n"
     ]
    }
   ],
   "source": [
    "match numero:\n",
    "    case 1:\n",
    "        print('opção 1')\n",
    "    case 2:\n",
    "        print('opção 2')\n",
    "    case 3:\n",
    "        print('opção 3')\n",
    "    case 4:\n",
    "        print('opção 4')\n",
    "    "
   ]
  },
  {
   "cell_type": "code",
   "execution_count": null,
   "metadata": {},
   "outputs": [],
   "source": [
    "for i in range(5):\n",
    "    print(f'O numero é: {numero}')"
   ]
  },
  {
   "cell_type": "code",
   "execution_count": null,
   "metadata": {},
   "outputs": [],
   "source": [
    "contador = 0\n",
    "while contador <= 5:\n",
    "    print(f'O contador é: {contador}')"
   ]
  },
  {
   "cell_type": "markdown",
   "metadata": {},
   "source": [
    "# Relembrando variaveis\n",
    "\n",
    "tipos:\n",
    "\n",
    "- int()\n",
    "- str()\n",
    "- float()\n",
    "- bool()\n",
    "- list()\n",
    "- tuble()\n",
    "- dict()"
   ]
  },
  {
   "cell_type": "markdown",
   "metadata": {},
   "source": [
    "## Laços de Repetição\n",
    "\n",
    "- for\n",
    "- while\n",
    "- "
   ]
  },
  {
   "cell_type": "code",
   "execution_count": null,
   "metadata": {},
   "outputs": [],
   "source": [
    "aluno = 'Flavio Marques'\n",
    "aluno = ['Flavio', 'Adriana']\n",
    "print(aluno.lower)) # deixa minusculo\n",
    "print(aluno.capitalize)) # deixa primeira letra maiuscula\n",
    "print(aluno.upper)) # deixa maiusculo\n",
    "print(aluno.strip) # remove espaços\n",
    "print(aluno.replace('marques', 'rodrigues')) # substituir uma sequencia de caracter por outra\n",
    "print(aluno.split('-')) # criar uma com as palavras encontradas da string\n",
    "print('-'.join(aluno)) #transforma uma lista em uma string com o caracter desejado de separador\n",
    "print(aluno[8:13])# conta a string no intervalo de caracter fornecidos"
   ]
  },
  {
   "cell_type": "markdown",
   "metadata": {},
   "source": [
    "# Metado de lista\n",
    "- append\n",
    "- externd\n",
    "- insert\n",
    "- remove\n",
    "- pop\n",
    "- index\n",
    "- del\n",
    "- sort\n",
    "- reverse"
   ]
  },
  {
   "cell_type": "code",
   "execution_count": 2,
   "metadata": {},
   "outputs": [
    {
     "name": "stdout",
     "output_type": "stream",
     "text": [
      "['notebook', 'smartphone', 'smart tv', 'fliperama']\n",
      "['notebook', 'smartphone', 'smart tv', 'fliperama', 'sofa', 'mesa', 'puff']\n",
      "['notebook', 'smartphone', 'smart tv', 'playstation 5', 'fliperama', 'sofa', 'mesa', 'puff']\n",
      "['notebook', 'smartphone', 'smart tv', 'playstation 5', 'fliperama', 'sofa', 'mesa']\n",
      "['notebook', 'smart tv', 'playstation 5', 'fliperama', 'sofa', 'mesa']\n"
     ]
    },
    {
     "ename": "ValueError",
     "evalue": "list.remove(x): x not in list",
     "output_type": "error",
     "traceback": [
      "\u001b[1;31m---------------------------------------------------------------------------\u001b[0m",
      "\u001b[1;31mValueError\u001b[0m                                Traceback (most recent call last)",
      "Cell \u001b[1;32mIn[2], line 13\u001b[0m\n\u001b[0;32m     11\u001b[0m produtos\u001b[38;5;241m.\u001b[39mpop(\u001b[38;5;241m1\u001b[39m)\u001b[38;5;66;03m# remove uma elemento especifico da lista\u001b[39;00m\n\u001b[0;32m     12\u001b[0m \u001b[38;5;28mprint\u001b[39m(produtos)\n\u001b[1;32m---> 13\u001b[0m \u001b[43mprodutos\u001b[49m\u001b[38;5;241;43m.\u001b[39;49m\u001b[43mremove\u001b[49m\u001b[43m(\u001b[49m\u001b[38;5;124;43m'\u001b[39;49m\u001b[38;5;124;43msamart tv\u001b[39;49m\u001b[38;5;124;43m'\u001b[39;49m\u001b[43m)\u001b[49m \u001b[38;5;66;03m# remove a primeira ocorrencia encontrada da lista\u001b[39;00m\n\u001b[0;32m     14\u001b[0m \u001b[38;5;28mprint\u001b[39m(produtos)\n\u001b[0;32m     15\u001b[0m produtos\u001b[38;5;241m.\u001b[39mindex(\u001b[38;5;124m'\u001b[39m\u001b[38;5;124mnotebook\u001b[39m\u001b[38;5;124m'\u001b[39m) \u001b[38;5;66;03m# retona o indice da primeira ocorrencia encontrada\u001b[39;00m\n",
      "\u001b[1;31mValueError\u001b[0m: list.remove(x): x not in list"
     ]
    }
   ],
   "source": [
    "produtos = ['notebook', 'smartphone', 'smart tv']\n",
    "\n",
    "produtos.append('fliperama')# adiciona uma elemento ao final da lista\n",
    "print(produtos)\n",
    "produtos.extend(['sofa', 'mesa', 'puff'])# incrementa a lista com outra lista\n",
    "print(produtos)\n",
    "produtos.insert(3, 'playstation 5')# aciona um novo elemento em uma posição especifica \n",
    "print(produtos)\n",
    "produtos.pop()# remove o ultimo elemento da lista\n",
    "print(produtos)\n",
    "produtos.pop(1)# remove uma elemento especifico da lista\n",
    "print(produtos)\n",
    "produtos.remove('samart tv') # remove a primeira ocorrencia encontrada da lista\n",
    "print(produtos)\n",
    "produtos.index('notebook') # retona o indice da primeira ocorrencia encontrada\n",
    "print(produtos)\n",
    "produtos.sort() # organiza em ordem crescente a lista\n",
    "print(produtos)\n",
    "produtos.reverse() # inventea lista de tras para frente\n",
    "print(produtos)"
   ]
  },
  {
   "cell_type": "markdown",
   "metadata": {},
   "source": [
    "# Funções \n",
    "\n",
    "São objetos capazes de armazenar em bloco de codigo e depois podem ser reaproveitados em outro\n",
    "momento do codigo, somente chamando pelo seu nome.\n",
    "\n",
    "TIPOS:\n",
    "\n",
    "- função sem retorno\n",
    "- função com retorno\n",
    "- função paramentros\n",
    "- função sem paramentros\n",
    "- função lambda\n",
    "- função com multiplos paramentos\n",
    "-  -paramentros posicionais\n",
    "-  -paramentros nomeados\n",
    "- funções recursivas"
   ]
  },
  {
   "cell_type": "code",
   "execution_count": 4,
   "metadata": {},
   "outputs": [],
   "source": [
    "def saudacao():\n",
    "    print('Hello World')"
   ]
  },
  {
   "cell_type": "code",
   "execution_count": 5,
   "metadata": {},
   "outputs": [
    {
     "name": "stdout",
     "output_type": "stream",
     "text": [
      "Hello World\n"
     ]
    }
   ],
   "source": [
    "saudacao()"
   ]
  },
  {
   "cell_type": "code",
   "execution_count": 7,
   "metadata": {},
   "outputs": [],
   "source": [
    "# Função com Retorno\n",
    "def somar():\n",
    "    soma = 10 + 25\n",
    "    return soma"
   ]
  },
  {
   "cell_type": "code",
   "execution_count": 12,
   "metadata": {},
   "outputs": [
    {
     "name": "stdout",
     "output_type": "stream",
     "text": [
      "35\n"
     ]
    }
   ],
   "source": [
    "print(somar())"
   ]
  },
  {
   "cell_type": "code",
   "execution_count": 18,
   "metadata": {},
   "outputs": [],
   "source": [
    "# com paramentro\n",
    "def somar2(numero1, numero2):\n",
    "    somar = numero1 + numero2\n",
    "    return somar"
   ]
  },
  {
   "cell_type": "code",
   "execution_count": 19,
   "metadata": {},
   "outputs": [
    {
     "data": {
      "text/plain": [
       "13"
      ]
     },
     "execution_count": 19,
     "metadata": {},
     "output_type": "execute_result"
    }
   ],
   "source": [
    "somar2(5,8)"
   ]
  },
  {
   "cell_type": "code",
   "execution_count": 20,
   "metadata": {},
   "outputs": [],
   "source": [
    "# Função Lambda\n",
    "\n",
    "somar_lambda = lambda numero1, numero2 : numero1 + numero2"
   ]
  },
  {
   "cell_type": "code",
   "execution_count": 21,
   "metadata": {},
   "outputs": [
    {
     "data": {
      "text/plain": [
       "178"
      ]
     },
     "execution_count": 21,
     "metadata": {},
     "output_type": "execute_result"
    }
   ],
   "source": [
    "somar_lambda(78,100)"
   ]
  },
  {
   "cell_type": "code",
   "execution_count": 26,
   "metadata": {},
   "outputs": [],
   "source": [
    "# Função com multiplos paramentro (argumentos) posicionais\n",
    "\n",
    "def soma3 (*numeros):\n",
    "    resultado = sum(numero)\n",
    "    return resultado"
   ]
  },
  {
   "cell_type": "code",
   "execution_count": 40,
   "metadata": {},
   "outputs": [
    {
     "ename": "NameError",
     "evalue": "name 'numero' is not defined",
     "output_type": "error",
     "traceback": [
      "\u001b[1;31m---------------------------------------------------------------------------\u001b[0m",
      "\u001b[1;31mNameError\u001b[0m                                 Traceback (most recent call last)",
      "Cell \u001b[1;32mIn[40], line 1\u001b[0m\n\u001b[1;32m----> 1\u001b[0m \u001b[43msoma3\u001b[49m\u001b[43m(\u001b[49m\u001b[38;5;241;43m1\u001b[39;49m\u001b[43m,\u001b[49m\u001b[43m \u001b[49m\u001b[38;5;241;43m12\u001b[39;49m\u001b[43m,\u001b[49m\u001b[43m \u001b[49m\u001b[38;5;241;43m25\u001b[39;49m\u001b[43m,\u001b[49m\u001b[43m \u001b[49m\u001b[38;5;241;43m26\u001b[39;49m\u001b[43m,\u001b[49m\u001b[43m \u001b[49m\u001b[38;5;241;43m27\u001b[39;49m\u001b[43m,\u001b[49m\u001b[43m \u001b[49m\u001b[38;5;241;43m10\u001b[39;49m\u001b[43m)\u001b[49m\n",
      "Cell \u001b[1;32mIn[26], line 4\u001b[0m, in \u001b[0;36msoma3\u001b[1;34m(*numeros)\u001b[0m\n\u001b[0;32m      3\u001b[0m \u001b[38;5;28;01mdef\u001b[39;00m \u001b[38;5;21msoma3\u001b[39m (\u001b[38;5;241m*\u001b[39mnumeros):\n\u001b[1;32m----> 4\u001b[0m     resultado \u001b[38;5;241m=\u001b[39m \u001b[38;5;28msum\u001b[39m(\u001b[43mnumero\u001b[49m)\n\u001b[0;32m      5\u001b[0m     \u001b[38;5;28;01mreturn\u001b[39;00m resultado\n",
      "\u001b[1;31mNameError\u001b[0m: name 'numero' is not defined"
     ]
    }
   ],
   "source": [
    "soma3(1, 12, 25, 26, 27, 10)"
   ]
  },
  {
   "cell_type": "code",
   "execution_count": 36,
   "metadata": {},
   "outputs": [],
   "source": [
    "# função multiplos paramentros nomeados \n",
    "\n",
    "def gerar_produto (**paramentros):\n",
    "    produtos = paramentros\n",
    "    return produtos"
   ]
  },
  {
   "cell_type": "code",
   "execution_count": 38,
   "metadata": {},
   "outputs": [
    {
     "data": {
      "text/plain": [
       "{'nome': 'notebook', 'preco': 3000.0, 'fabricante': 'sansung'}"
      ]
     },
     "execution_count": 38,
     "metadata": {},
     "output_type": "execute_result"
    }
   ],
   "source": [
    "gerar_produto(nome='notebook', preco= 3000.00, fabricante='sansung')"
   ]
  },
  {
   "cell_type": "code",
   "execution_count": 41,
   "metadata": {},
   "outputs": [],
   "source": [
    "# funçôes fatorial convencional\n",
    "\n",
    "fatorial = 5\n",
    "\n",
    "def calcula_fatorial(numero):\n",
    "    resultado = 1\n",
    "    for i in range(1 , numero +1):\n",
    "        resultado *= i\n",
    "    return resultado"
   ]
  },
  {
   "cell_type": "code",
   "execution_count": 42,
   "metadata": {},
   "outputs": [
    {
     "data": {
      "text/plain": [
       "120"
      ]
     },
     "execution_count": 42,
     "metadata": {},
     "output_type": "execute_result"
    }
   ],
   "source": [
    "calcula_fatorial(5)"
   ]
  },
  {
   "cell_type": "code",
   "execution_count": 45,
   "metadata": {},
   "outputs": [],
   "source": [
    "def calcula_fatorial2(numero):\n",
    "    if numero == 0 or numero == 1:\n",
    "        return\n",
    "    else:\n",
    "        return numero * calcula_fatorial2(numero-1)"
   ]
  },
  {
   "cell_type": "code",
   "execution_count": null,
   "metadata": {},
   "outputs": [],
   "source": [
    "calcula_fatorial2(5)"
   ]
  }
 ],
 "metadata": {
  "interpreter": {
   "hash": "023695796a0456db28915f727eb64cb942055160ea749933aa044f2070f70f3a"
  },
  "kernelspec": {
   "display_name": "Python 3.12.5 64-bit (windows store)",
   "language": "python",
   "name": "python3"
  },
  "language_info": {
   "codemirror_mode": {
    "name": "ipython",
    "version": 3
   },
   "file_extension": ".py",
   "mimetype": "text/x-python",
   "name": "python",
   "nbconvert_exporter": "python",
   "pygments_lexer": "ipython3",
   "version": "3.12.5"
  },
  "orig_nbformat": 4
 },
 "nbformat": 4,
 "nbformat_minor": 2
}
