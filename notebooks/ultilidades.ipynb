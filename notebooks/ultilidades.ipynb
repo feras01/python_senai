{
 "cells": [
  {
   "cell_type": "code",
   "execution_count": 80,
   "metadata": {},
   "outputs": [
    {
     "ename": "TypeError",
     "evalue": "'bool' object is not callable",
     "output_type": "error",
     "traceback": [
      "\u001b[1;31m---------------------------------------------------------------------------\u001b[0m",
      "\u001b[1;31mTypeError\u001b[0m                                 Traceback (most recent call last)",
      "Cell \u001b[1;32mIn[80], line 2\u001b[0m\n\u001b[0;32m      1\u001b[0m \u001b[38;5;66;03m# ANY (Qualquer, qualquer coisa)\u001b[39;00m\n\u001b[1;32m----> 2\u001b[0m resposta \u001b[38;5;241m=\u001b[39m \u001b[38;5;28;43many\u001b[39;49m\u001b[43m(\u001b[49m\u001b[43m[\u001b[49m\u001b[38;5;28;43;01mFalse\u001b[39;49;00m\u001b[43m,\u001b[49m\u001b[43m \u001b[49m\u001b[38;5;28;43;01mTrue\u001b[39;49;00m\u001b[43m,\u001b[49m\u001b[43m \u001b[49m\u001b[38;5;28;43;01mFalse\u001b[39;49;00m\u001b[43m,\u001b[49m\u001b[43m \u001b[49m\u001b[38;5;28;43;01mFalse\u001b[39;49;00m\u001b[43m,\u001b[49m\u001b[43m \u001b[49m\u001b[38;5;28;43;01mFalse\u001b[39;49;00m\u001b[43m \u001b[49m\u001b[43m]\u001b[49m\u001b[43m)\u001b[49m\n\u001b[0;32m      3\u001b[0m display(resposta)\n",
      "\u001b[1;31mTypeError\u001b[0m: 'bool' object is not callable"
     ]
    }
   ],
   "source": [
    "# ANY (Qualquer, qualquer coisa)\n",
    "resposta = any([False, True, False, False, False ])\n",
    "display(resposta)"
   ]
  },
  {
   "cell_type": "code",
   "execution_count": 81,
   "metadata": {},
   "outputs": [
    {
     "ename": "TypeError",
     "evalue": "'bool' object is not callable",
     "output_type": "error",
     "traceback": [
      "\u001b[1;31m---------------------------------------------------------------------------\u001b[0m",
      "\u001b[1;31mTypeError\u001b[0m                                 Traceback (most recent call last)",
      "Cell \u001b[1;32mIn[81], line 2\u001b[0m\n\u001b[0;32m      1\u001b[0m nomes \u001b[38;5;241m=\u001b[39m (\u001b[38;5;124m'\u001b[39m\u001b[38;5;124mLuciano\u001b[39m\u001b[38;5;124m'\u001b[39m, \u001b[38;5;124m'\u001b[39m\u001b[38;5;124m'\u001b[39m, \u001b[38;5;124m'\u001b[39m\u001b[38;5;124m'\u001b[39m, \u001b[38;5;124m'\u001b[39m\u001b[38;5;124m'\u001b[39m, \u001b[38;5;124m'\u001b[39m\u001b[38;5;124m'\u001b[39m,)\n\u001b[1;32m----> 2\u001b[0m resposta \u001b[38;5;241m=\u001b[39m \u001b[38;5;28;43many\u001b[39;49m\u001b[43m(\u001b[49m\u001b[43mnomes\u001b[49m\u001b[43m)\u001b[49m\n\u001b[0;32m      3\u001b[0m display(resposta)\n",
      "\u001b[1;31mTypeError\u001b[0m: 'bool' object is not callable"
     ]
    }
   ],
   "source": [
    "nomes = ('Luciano', '', '', '', '',)\n",
    "resposta = any(nomes)\n",
    "display(resposta)"
   ]
  },
  {
   "cell_type": "code",
   "execution_count": 86,
   "metadata": {},
   "outputs": [
    {
     "ename": "TypeError",
     "evalue": "'bool' object is not callable",
     "output_type": "error",
     "traceback": [
      "\u001b[1;31m---------------------------------------------------------------------------\u001b[0m",
      "\u001b[1;31mTypeError\u001b[0m                                 Traceback (most recent call last)",
      "Cell \u001b[1;32mIn[86], line 3\u001b[0m\n\u001b[0;32m      1\u001b[0m numeros \u001b[38;5;241m=\u001b[39m [\u001b[38;5;241m2\u001b[39m, \u001b[38;5;241m10\u001b[39m, \u001b[38;5;241m11\u001b[39m, \u001b[38;5;241m24\u001b[39m, \u001b[38;5;241m31\u001b[39m, \u001b[38;5;241m15\u001b[39m]\n\u001b[1;32m----> 3\u001b[0m resultado \u001b[38;5;241m=\u001b[39m \u001b[38;5;28;43many\u001b[39;49m\u001b[43m(\u001b[49m\u001b[43mnum\u001b[49m\u001b[43m \u001b[49m\u001b[38;5;241;43m%\u001b[39;49m\u001b[43m \u001b[49m\u001b[38;5;241;43m2\u001b[39;49m\u001b[43m \u001b[49m\u001b[38;5;241;43m!=\u001b[39;49m\u001b[43m \u001b[49m\u001b[38;5;241;43m0\u001b[39;49m\u001b[43m \u001b[49m\u001b[38;5;28;43;01mfor\u001b[39;49;00m\u001b[43m \u001b[49m\u001b[43mnum\u001b[49m\u001b[43m \u001b[49m\u001b[38;5;129;43;01min\u001b[39;49;00m\u001b[43m \u001b[49m\u001b[43mnumeros\u001b[49m\u001b[43m)\u001b[49m\n\u001b[0;32m      5\u001b[0m display(resultado)\n",
      "\u001b[1;31mTypeError\u001b[0m: 'bool' object is not callable"
     ]
    }
   ],
   "source": [
    "numeros = [2, 10, 11, 24, 31, 15]\n",
    "\n",
    "resultado = any(num % 2 != 0 for num in numeros)\n",
    "\n",
    "display(resultado)"
   ]
  },
  {
   "cell_type": "code",
   "execution_count": 101,
   "metadata": {},
   "outputs": [
    {
     "ename": "SyntaxError",
     "evalue": "invalid syntax (2889238302.py, line 10)",
     "output_type": "error",
     "traceback": [
      "\u001b[1;36m  Cell \u001b[1;32mIn[101], line 10\u001b[1;36m\u001b[0m\n\u001b[1;33m    venceu = any(tabuleiro[a] == tabuleiro[b] == tabuleiro[c] for a, b, c in combinacoes_vitoria):\u001b[0m\n\u001b[1;37m                                                                                                 ^\u001b[0m\n\u001b[1;31mSyntaxError\u001b[0m\u001b[1;31m:\u001b[0m invalid syntax\n"
     ]
    }
   ],
   "source": [
    "tabuleiro = ['a',1,2,3,'a',5,6,7,'a']\n",
    "\n",
    "venceu = False\n",
    "combinacoes_vitoria = [\n",
    "    (0,1,2), (3,4,5), (6,7,8), #Linhas\n",
    "    (0,3,6), (1,4,7), (2,5,8), #Colunas\n",
    "    (0,4,8), (2,4,6)           #Diagonais\n",
    "]\n",
    "\n",
    "venceu = any(tabuleiro[a] == tabuleiro[b] == tabuleiro[c] for a, b, c in combinacoes_vitoria)\n",
    "\n",
    "#for a, b, c in combinacoes_vitoria:\n",
    " #   if tabuleiro[a] == tabuleiro[b] == tabuleiro[c]:\n",
    " #       venceu = True\n",
    "        \n",
    "print(venceu)"
   ]
  },
  {
   "cell_type": "code",
   "execution_count": 100,
   "metadata": {},
   "outputs": [
    {
     "name": "stdout",
     "output_type": "stream",
     "text": [
      "Luciano Lucas Flavio\n",
      "Adriana Marcelo Antonio\n",
      "Joana Maria Pedro\n"
     ]
    }
   ],
   "source": [
    "lista_nomes = [\n",
    "    ['Luciano', 'Lucas', 'Flavio'],\n",
    "    ['Adriana', 'Marcelo', 'Antonio'],\n",
    "    ['Joana', 'Maria', 'Pedro']\n",
    "]\n",
    "\n",
    "for nome1, nome2, nome3 in lista_nomes:\n",
    "    print(nome1, nome2, nome3)"
   ]
  },
  {
   "cell_type": "code",
   "execution_count": 113,
   "metadata": {},
   "outputs": [
    {
     "name": "stdout",
     "output_type": "stream",
     "text": [
      "False\n"
     ]
    }
   ],
   "source": [
    "\n",
    "lista = [False, False, True]\n",
    "\n",
    "resposta = all(lista)\n",
    "\n",
    "print(resposta)\n"
   ]
  },
  {
   "cell_type": "code",
   "execution_count": 117,
   "metadata": {},
   "outputs": [
    {
     "name": "stdout",
     "output_type": "stream",
     "text": [
      "['Laranja', 'Uva', 'Maça', 'Limão']\n",
      "['Laranja', 'Uva', 'Maça', 'Limão']\n",
      "['Laranja', 'Kiwi', 'Maça', 'Limão']\n",
      "['Laranja', 'Uva', 'Maça', 'Limão']\n"
     ]
    }
   ],
   "source": [
    "lista_frutas = ['Laranja', 'Uva', 'Maça', 'Limão']\n",
    "\n",
    "copia_lista = lista_frutas[:]\n",
    "\n",
    "print(lista_frutas)\n",
    "print(copia_lista)\n",
    "\n",
    "lista_frutas[1] = 'Kiwi'\n",
    "\n",
    "print(lista_frutas)\n",
    "print(copia_lista)"
   ]
  },
  {
   "cell_type": "code",
   "execution_count": 126,
   "metadata": {},
   "outputs": [
    {
     "ename": "SyntaxError",
     "evalue": "invalid syntax (3380859205.py, line 8)",
     "output_type": "error",
     "traceback": [
      "\u001b[1;36m  Cell \u001b[1;32mIn[126], line 8\u001b[1;36m\u001b[0m\n\u001b[1;33m    xcept ValueError:\u001b[0m\n\u001b[1;37m          ^\u001b[0m\n\u001b[1;31mSyntaxError\u001b[0m\u001b[1;31m:\u001b[0m invalid syntax\n"
     ]
    }
   ],
   "source": [
    "try:\n",
    "    numero1 = int(input('Informe um numero: '))\n",
    "    numero2 = int(input('Informe um numero: '))\n",
    "    \n",
    "    print('O resultado é:', numero1 / numero2)\n",
    "except ZeroDivisionError:\n",
    "    print(ValueError)\n",
    "xcept ValueError:\n",
    "    print(ValueError)\n",
    "\n",
    "print('Estou depois ')"
   ]
  },
  {
   "cell_type": "code",
   "execution_count": null,
   "metadata": {},
   "outputs": [],
   "source": []
  }
 ],
 "metadata": {
  "interpreter": {
   "hash": "86e0854421ab4815638af60e999722e5d7203f5f8ceaae2bebaef7f7e75f9092"
  },
  "kernelspec": {
   "display_name": "Python 3 (ipykernel)",
   "language": "python",
   "name": "python3"
  },
  "language_info": {
   "codemirror_mode": {
    "name": "ipython",
    "version": 3
   },
   "file_extension": ".py",
   "mimetype": "text/x-python",
   "name": "python",
   "nbconvert_exporter": "python",
   "pygments_lexer": "ipython3",
   "version": "3.11.9"
  }
 },
 "nbformat": 4,
 "nbformat_minor": 4
}
